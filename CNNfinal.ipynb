{
  "nbformat": 4,
  "nbformat_minor": 0,
  "metadata": {
    "colab": {
      "name": "CNNfinal.ipynb",
      "version": "0.3.2",
      "provenance": []
    },
    "kernelspec": {
      "name": "python3",
      "display_name": "Python 3"
    }
  },
  "cells": [
    {
      "metadata": {
        "id": "zME0Y5l4WGeI",
        "colab_type": "code",
        "colab": {}
      },
      "cell_type": "code",
      "source": [
        "import tensorflow as tf\n",
        "import pandas as pd"
      ],
      "execution_count": 0,
      "outputs": []
    },
    {
      "metadata": {
        "id": "KjDGwtGDmrcu",
        "colab_type": "code",
        "colab": {}
      },
      "cell_type": "code",
      "source": [
        "# Code to read csv file into Colaboratory:\n",
        "\n",
        "!pip install -U -q PyDrive\n",
        "from pydrive.auth import GoogleAuth\n",
        "from pydrive.drive import GoogleDrive\n",
        "from google.colab import auth\n",
        "from oauth2client.client import GoogleCredentials\n",
        "\n",
        "# Authenticate and create the PyDrive client.\n",
        "auth.authenticate_user()\n",
        "gauth = GoogleAuth()\n",
        "gauth.credentials = GoogleCredentials.get_application_default()\n",
        "drive = GoogleDrive(gauth)"
      ],
      "execution_count": 0,
      "outputs": []
    },
    {
      "metadata": {
        "id": "WnDDXYQ5m0mS",
        "colab_type": "code",
        "colab": {}
      },
      "cell_type": "code",
      "source": [
        "trainlink = \"https://drive.google.com/open?id=1U4Yrb5z2ciLXr1YE2jGkMnV1losEYktG\"\n",
        "testlink = \"https://drive.google.com/open?id=11axtXwQjC3ig6TPiq101eWv76bw9qm-i\""
      ],
      "execution_count": 0,
      "outputs": []
    },
    {
      "metadata": {
        "id": "1IEVCQ1Fm5jP",
        "colab_type": "code",
        "colab": {}
      },
      "cell_type": "code",
      "source": [
        "fluff, id = trainlink.split('=')\n",
        "downloaded = drive.CreateFile({'id':id}) \n",
        "downloaded.GetContentFile('fashion-mnist_train.csv')  \n",
        "train = pd.read_csv('fashion-mnist_train.csv')\n",
        "\n",
        "\n",
        "fluff, id = testlink.split('=')\n",
        "downloaded = drive.CreateFile({'id':id}) \n",
        "downloaded.GetContentFile('fashion-mnist_test.csv')  \n",
        "test = pd.read_csv('fashion-mnist_test.csv')\n",
        "\n",
        "# Dataset is now stored in a Pandas Dataframe"
      ],
      "execution_count": 0,
      "outputs": []
    },
    {
      "metadata": {
        "id": "a-R-ENbgnEFe",
        "colab_type": "code",
        "colab": {}
      },
      "cell_type": "code",
      "source": [
        "trainY = train[\"label\"]\n",
        "del train[\"label\"]"
      ],
      "execution_count": 0,
      "outputs": []
    },
    {
      "metadata": {
        "id": "1auMurxYnU1Z",
        "colab_type": "code",
        "colab": {}
      },
      "cell_type": "code",
      "source": [
        "def onehotencoding(y,num_classes):\n",
        "  y_true = []\n",
        "  for i in y:\n",
        "    temp_list = [0]*num_classes\n",
        "    temp_list[i] = 1\n",
        "    y_true.append(temp_list)\n",
        "  return y_true"
      ],
      "execution_count": 0,
      "outputs": []
    },
    {
      "metadata": {
        "id": "ygvnqbBsoOgo",
        "colab_type": "code",
        "colab": {}
      },
      "cell_type": "code",
      "source": [
        "y_true = onehotencoding(trainY,10)\n",
        "x = train"
      ],
      "execution_count": 0,
      "outputs": []
    },
    {
      "metadata": {
        "id": "rc2nMsJuodV4",
        "colab_type": "code",
        "colab": {
          "base_uri": "https://localhost:8080/",
          "height": 34
        },
        "outputId": "e47ef23c-0806-434a-92b5-b591b2e180aa"
      },
      "cell_type": "code",
      "source": [
        "len(y_true)"
      ],
      "execution_count": 25,
      "outputs": [
        {
          "output_type": "execute_result",
          "data": {
            "text/plain": [
              "60000"
            ]
          },
          "metadata": {
            "tags": []
          },
          "execution_count": 25
        }
      ]
    },
    {
      "metadata": {
        "id": "4qCUrpDWpCTl",
        "colab_type": "code",
        "colab": {}
      },
      "cell_type": "code",
      "source": [
        "img_size = 784\n",
        "img_size_flat = 784\n",
        "img_shape = (28,28)\n",
        "num_classes = 10\n",
        "num_channels = 1"
      ],
      "execution_count": 0,
      "outputs": []
    },
    {
      "metadata": {
        "id": "vJrDcAUuqTdh",
        "colab_type": "code",
        "colab": {}
      },
      "cell_type": "code",
      "source": [
        "# Convolutional Layer 1.\n",
        "filter_size1 = 5          # Convolution filters are 5 x 5 pixels.\n",
        "num_filters1 = 16         # There are 16 of these filters.\n",
        "\n",
        "# Convolutional Layer 2.\n",
        "filter_size2 = 5          # Convolution filters are 5 x 5 pixels.\n",
        "num_filters2 = 36         # There are 36 of these filters.\n",
        "\n",
        "# Fully-connected layer.\n",
        "fc_size = 128             # Number of neurons in fully-connected layer."
      ],
      "execution_count": 0,
      "outputs": []
    },
    {
      "metadata": {
        "id": "NAYz2mzhWQ6Q",
        "colab_type": "code",
        "colab": {}
      },
      "cell_type": "code",
      "source": [
        "def new_weights(shape):\n",
        "  return tf.Variable(tf.truncated_normal(shape, stddev = 0.5))\n",
        "\n",
        "def new_bias(length):\n",
        "  return tf.Variable(tf.constant(0.05, shape=[length]))"
      ],
      "execution_count": 0,
      "outputs": []
    },
    {
      "metadata": {
        "id": "I3-LIZH2XWR8",
        "colab_type": "code",
        "colab": {}
      },
      "cell_type": "code",
      "source": [
        "def new_convolutional_layer(input,\n",
        "                           number_of_input_channels,\n",
        "                           filter_size,\n",
        "                           num_filters,\n",
        "                           use_pooling=True):\n",
        "  shape = [filter_size,filter_size,number_of_input_channels,num_filters]\n",
        "  \n",
        "  weights = new_weights(shape=shape)\n",
        "  biases = new_bias(length=num_filters)\n",
        "  \n",
        "  layer = tf.nn.conv2d(input=input,\n",
        "                       filter=weights,\n",
        "                       strides=[1,1,1,1],\n",
        "                       padding='SAME') + biases\n",
        "  \n",
        "  if use_pooling:\n",
        "    layer = tf.nn.max_pool(value=layer,\n",
        "                           ksize=[1, 2, 2, 1],\n",
        "                           strides=[1, 2, 2, 1],\n",
        "                           padding='SAME')\n",
        "    \n",
        "  layer = tf.nn.relu(layer)\n",
        "  \n",
        "  return layer, weights"
      ],
      "execution_count": 0,
      "outputs": []
    },
    {
      "metadata": {
        "id": "RjlYS0q3gg6E",
        "colab_type": "code",
        "colab": {}
      },
      "cell_type": "code",
      "source": [
        "def flatten_layer(layer):\n",
        "  layer_shape = layer.get_shape()\n",
        "  \n",
        "  num_features = layer_shape[1:4].num_elements()\n",
        "  \n",
        "  layer_flat = tf.reshape(layer, [-1,num_features])\n",
        "  \n",
        "  return layer_flat,num_features"
      ],
      "execution_count": 0,
      "outputs": []
    },
    {
      "metadata": {
        "id": "Wetx3iozikx2",
        "colab_type": "code",
        "colab": {}
      },
      "cell_type": "code",
      "source": [
        "def new_fc_layer(input,num_inputs,num_outputs,use_relu):\n",
        "  weights = new_weights(shape=[num_inputs,num_outputs])\n",
        "  bias = new_bias(length=num_outputs)\n",
        "  layer = (tf.matmul(input,weights) + bias)\n",
        "  if use_relu:\n",
        "    layer = tf.nn.relu(layer)\n",
        "  return layer"
      ],
      "execution_count": 0,
      "outputs": []
    },
    {
      "metadata": {
        "id": "obFwuTSWjd6C",
        "colab_type": "code",
        "colab": {}
      },
      "cell_type": "code",
      "source": [
        "x = tf.placeholder(tf.float32, shape=[None,img_size_flat])\n",
        "x_image = tf.reshape(x, [-1,img_size,img_size,num_channels])\n",
        "\n",
        "y_true = tf.placeholder(tf.float32, shape=[None,num_classes])\n",
        "y_true_cls = tf.argmax(y_true, axis=1)"
      ],
      "execution_count": 0,
      "outputs": []
    },
    {
      "metadata": {
        "id": "PPdnLGjNlxVC",
        "colab_type": "code",
        "colab": {}
      },
      "cell_type": "code",
      "source": [
        "layer_conv1, weights_conv1 = new_convolutional_layer(input=x_image,\n",
        "                                                     number_of_input_channels=num_channels,\n",
        "                                                     filter_size=filter_size1,\n",
        "                                                     num_filters=num_filters1,\n",
        "                                                     use_pooling=True)"
      ],
      "execution_count": 0,
      "outputs": []
    },
    {
      "metadata": {
        "id": "WkchrMV3o8pY",
        "colab_type": "code",
        "colab": {
          "base_uri": "https://localhost:8080/",
          "height": 34
        },
        "outputId": "af56b0fc-abe2-4f47-a0e7-f1a2b4a862f4"
      },
      "cell_type": "code",
      "source": [
        "layer_conv1"
      ],
      "execution_count": 62,
      "outputs": [
        {
          "output_type": "execute_result",
          "data": {
            "text/plain": [
              "<tf.Tensor 'Relu:0' shape=(?, 392, 392, 16) dtype=float32>"
            ]
          },
          "metadata": {
            "tags": []
          },
          "execution_count": 62
        }
      ]
    },
    {
      "metadata": {
        "id": "h6L8PMX8sCjR",
        "colab_type": "code",
        "colab": {}
      },
      "cell_type": "code",
      "source": [
        "layer_conv2, weights_conv2 = new_convolutional_layer(input=layer_conv1,\n",
        "                                                     number_of_input_channels=num_filters1,\n",
        "                                                     filter_size=filter_size2,\n",
        "                                                     num_filters=num_filters2,\n",
        "                                                     use_pooling=True)"
      ],
      "execution_count": 0,
      "outputs": []
    },
    {
      "metadata": {
        "id": "7UNSYhnSstHt",
        "colab_type": "code",
        "colab": {
          "base_uri": "https://localhost:8080/",
          "height": 34
        },
        "outputId": "7c3567f4-8f31-4647-aeac-562320eefb59"
      },
      "cell_type": "code",
      "source": [
        "layer_conv2"
      ],
      "execution_count": 64,
      "outputs": [
        {
          "output_type": "execute_result",
          "data": {
            "text/plain": [
              "<tf.Tensor 'Relu_1:0' shape=(?, 196, 196, 36) dtype=float32>"
            ]
          },
          "metadata": {
            "tags": []
          },
          "execution_count": 64
        }
      ]
    },
    {
      "metadata": {
        "id": "74tfTjDTsu1u",
        "colab_type": "code",
        "colab": {}
      },
      "cell_type": "code",
      "source": [
        "layer_flat,num_features = flatten_layer(layer_conv2)"
      ],
      "execution_count": 0,
      "outputs": []
    },
    {
      "metadata": {
        "id": "uo2uesL5tCG1",
        "colab_type": "code",
        "colab": {
          "base_uri": "https://localhost:8080/",
          "height": 34
        },
        "outputId": "c045ee75-12aa-4839-ecf3-8327f23590c6"
      },
      "cell_type": "code",
      "source": [
        "layer_flat"
      ],
      "execution_count": 66,
      "outputs": [
        {
          "output_type": "execute_result",
          "data": {
            "text/plain": [
              "<tf.Tensor 'Reshape_4:0' shape=(?, 1382976) dtype=float32>"
            ]
          },
          "metadata": {
            "tags": []
          },
          "execution_count": 66
        }
      ]
    },
    {
      "metadata": {
        "id": "EX_l43DPtDrj",
        "colab_type": "code",
        "colab": {
          "base_uri": "https://localhost:8080/",
          "height": 34
        },
        "outputId": "08905efc-5c2a-49c8-bafc-cae3747f4e44"
      },
      "cell_type": "code",
      "source": [
        "num_features"
      ],
      "execution_count": 67,
      "outputs": [
        {
          "output_type": "execute_result",
          "data": {
            "text/plain": [
              "1382976"
            ]
          },
          "metadata": {
            "tags": []
          },
          "execution_count": 67
        }
      ]
    },
    {
      "metadata": {
        "id": "4cuN8s1etJhH",
        "colab_type": "code",
        "colab": {}
      },
      "cell_type": "code",
      "source": [
        "layer_fc1 = new_fc_layer(input=layer_flat,\n",
        "                     num_inputs=num_features,\n",
        "                     num_outputs=fc_size,\n",
        "                     use_relu=True)"
      ],
      "execution_count": 0,
      "outputs": []
    },
    {
      "metadata": {
        "id": "M-5Aiv97t6d7",
        "colab_type": "code",
        "colab": {
          "base_uri": "https://localhost:8080/",
          "height": 34
        },
        "outputId": "66ab9eb2-8796-4f3f-d9bb-29a33aa4b1d6"
      },
      "cell_type": "code",
      "source": [
        "layer_fc1"
      ],
      "execution_count": 74,
      "outputs": [
        {
          "output_type": "execute_result",
          "data": {
            "text/plain": [
              "<tf.Tensor 'Relu_3:0' shape=(?, 128) dtype=float32>"
            ]
          },
          "metadata": {
            "tags": []
          },
          "execution_count": 74
        }
      ]
    },
    {
      "metadata": {
        "id": "jgJY7KJ3uC6r",
        "colab_type": "code",
        "colab": {}
      },
      "cell_type": "code",
      "source": [
        "layer_fc2 = new_fc_layer(input=layer_fc1,\n",
        "                     num_inputs=fc_size,\n",
        "                     num_outputs=num_classes,\n",
        "                     use_relu=False)"
      ],
      "execution_count": 0,
      "outputs": []
    },
    {
      "metadata": {
        "id": "3hbrcETbuQ7T",
        "colab_type": "code",
        "colab": {
          "base_uri": "https://localhost:8080/",
          "height": 34
        },
        "outputId": "420fb55b-f3e6-4b80-f013-40ec738b96d9"
      },
      "cell_type": "code",
      "source": [
        "layer_fc2"
      ],
      "execution_count": 76,
      "outputs": [
        {
          "output_type": "execute_result",
          "data": {
            "text/plain": [
              "<tf.Tensor 'add_6:0' shape=(?, 10) dtype=float32>"
            ]
          },
          "metadata": {
            "tags": []
          },
          "execution_count": 76
        }
      ]
    },
    {
      "metadata": {
        "id": "Q_z4Y359uVBB",
        "colab_type": "code",
        "colab": {}
      },
      "cell_type": "code",
      "source": [
        "y_pred = tf.nn.softmax(layer_fc2)\n"
      ],
      "execution_count": 0,
      "outputs": []
    },
    {
      "metadata": {
        "id": "dZ_ZbWlbujHz",
        "colab_type": "code",
        "colab": {}
      },
      "cell_type": "code",
      "source": [
        "y_pred_cls = tf.argmax(y_pred, axis=1)"
      ],
      "execution_count": 0,
      "outputs": []
    },
    {
      "metadata": {
        "id": "xW5nHJuFuou-",
        "colab_type": "code",
        "colab": {}
      },
      "cell_type": "code",
      "source": [
        "cross_entropy = tf.nn.softmax_cross_entropy_with_logits_v2(logits=layer_fc2,\n",
        "                                                       labels=y_true)"
      ],
      "execution_count": 0,
      "outputs": []
    },
    {
      "metadata": {
        "id": "d8zd0GervLbE",
        "colab_type": "code",
        "colab": {}
      },
      "cell_type": "code",
      "source": [
        "cost = tf.reduce_mean(cross_entropy)"
      ],
      "execution_count": 0,
      "outputs": []
    },
    {
      "metadata": {
        "id": "GrsMSk1BvdyM",
        "colab_type": "code",
        "colab": {}
      },
      "cell_type": "code",
      "source": [
        "optimizer = tf.train.AdamOptimizer(learning_rate=1e-4).minimize(cost)"
      ],
      "execution_count": 0,
      "outputs": []
    },
    {
      "metadata": {
        "id": "oh4rNu8tvut8",
        "colab_type": "code",
        "colab": {}
      },
      "cell_type": "code",
      "source": [
        "correct_prediction = tf.equal(y_pred_cls, y_true_cls)\n"
      ],
      "execution_count": 0,
      "outputs": []
    },
    {
      "metadata": {
        "id": "glt0Fd9Mv9Po",
        "colab_type": "code",
        "colab": {}
      },
      "cell_type": "code",
      "source": [
        "accuracy = tf.reduce_mean(tf.cast(correct_prediction, tf.float32))"
      ],
      "execution_count": 0,
      "outputs": []
    },
    {
      "metadata": {
        "id": "DMDZ9i3Fv_8R",
        "colab_type": "code",
        "colab": {}
      },
      "cell_type": "code",
      "source": [
        "session = tf.Session()"
      ],
      "execution_count": 0,
      "outputs": []
    },
    {
      "metadata": {
        "id": "eXHt2yC46tKw",
        "colab_type": "code",
        "colab": {}
      },
      "cell_type": "code",
      "source": [
        "session.run(tf.global_variables_initializer())"
      ],
      "execution_count": 0,
      "outputs": []
    },
    {
      "metadata": {
        "id": "LAnyoi9R64tj",
        "colab_type": "code",
        "colab": {}
      },
      "cell_type": "code",
      "source": [
        "train_batch_size = 60"
      ],
      "execution_count": 0,
      "outputs": []
    },
    {
      "metadata": {
        "id": "Sow2iVk_7QBI",
        "colab_type": "code",
        "colab": {}
      },
      "cell_type": "code",
      "source": [
        "total_iteration = 0\n",
        "def optimize(num_iteration):\n",
        "  global total_iteration\n",
        "  \n",
        "  start_time = time.time()\n",
        "  for i in range(total_iteration, total_iteration + num_iteration):\n",
        "    #generate data in batch\n",
        "    feed_dict_train = {x: x_batch,\n",
        "                      y_true: y_ture_batch}\n",
        "    \n",
        "    session.run(optimizer, feed_dict=feed_dict_train)\n",
        "    \n",
        "    if i%100 == 0:\n",
        "      acc = session.run(accuracy, feed_dict=feed_dict_train)\n",
        "      print(acc)\n",
        "  total_iteration += num_iteration\n",
        "  end_time = time.time()\n",
        "  time_diff = end_time - start_time\n",
        "  \n",
        "  print(time_diff)"
      ],
      "execution_count": 0,
      "outputs": []
    },
    {
      "metadata": {
        "id": "RSdb4-yP-RgA",
        "colab_type": "code",
        "colab": {}
      },
      "cell_type": "code",
      "source": [
        "# test_batch_size = 200\n",
        "def print_test_accuracy(testx,testy):\n",
        "  num_test = testx.shape[0]\n",
        "  feed_dict = {x: testx,\n",
        "               y_true: testy}\n",
        "  \n",
        "  "
      ],
      "execution_count": 0,
      "outputs": []
    }
  ]
}